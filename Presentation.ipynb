{
 "cells": [
  {
   "cell_type": "markdown",
   "metadata": {},
   "source": [
    "# Mirror Mirror on the Wall, Who's the Spookiest of them all?"
   ]
  },
  {
   "cell_type": "code",
   "execution_count": 1,
   "metadata": {},
   "outputs": [],
   "source": [
    "from all_imports import *\n",
    "warnings.filterwarnings(\"ignore\")\n",
    "tqdm.pandas()\n",
    "df = pd.read_csv('train.csv')\n",
    "df.drop('id', axis=1, inplace=True)"
   ]
  },
  {
   "cell_type": "code",
   "execution_count": 2,
   "metadata": {},
   "outputs": [],
   "source": [
    "df = initialize(df)\n",
    "encoder = LabelEncoder()\n",
    "df['author'] = encoder.fit_transform(df.author.values)\n"
   ]
  },
  {
   "cell_type": "code",
   "execution_count": 3,
   "metadata": {},
   "outputs": [],
   "source": [
    "nlp = spacy.load(\"en_core_web_lg\")"
   ]
  },
  {
   "cell_type": "markdown",
   "metadata": {},
   "source": [
    "## FEATURE ENGINEERING"
   ]
  },
  {
   "cell_type": "code",
   "execution_count": 4,
   "metadata": {},
   "outputs": [],
   "source": [
    "def add_features(row):\n",
    "    text = row.text\n",
    "    doc = nlp(text)\n",
    "    lemmas = list()\n",
    "    entities = list()\n",
    "    for token in doc:\n",
    "        if token.text == ':':\n",
    "            row['has_colon'] = 1\n",
    "        if token.text == ';':\n",
    "            row['has_semicolon'] = 1\n",
    "        if token.text == '-':\n",
    "            row['has_dash'] = 1\n",
    "        pos = token.pos_\n",
    "        row[pos] += 1\n",
    "        if token.is_stop or not token.is_alpha:\n",
    "            continue\n",
    "        lemma = token.lemma_.strip().lower()\n",
    "        if lemma:\n",
    "            lemmas.append(lemma)\n",
    "    for ent in doc.ents:\n",
    "        entities.append(ent.text)\n",
    "    lemmas = ' '.join(lemmas)\n",
    "    blob = TextBlob(text)\n",
    "    row['subjectivity'] = blob.sentiment.subjectivity\n",
    "    row['polarity'] = blob.sentiment.polarity\n",
    "    row['starts_conj'] = int(doc[0].pos_ == 'CONJ')\n",
    "    row['ends_prep'] = int(doc[0].pos_ == 'PREP')\n",
    "    row['entities'] = entities\n",
    "    row['lemmas'] = lemmas\n",
    "    row['raw_text_length'] = len(text)\n",
    "    row['num_words'] = len(doc)\n",
    "    row['avg_word_len'] = row.raw_text_length / row.num_words\n",
    "    row['vector_avg'] = np.mean(nlp(lemmas).vector)\n",
    "    return row\n",
    "\n",
    "df = df.apply(lambda x: add_features(x), axis=1)\n",
    "df['topic'] = get_topics(df.text.values.tolist(), num_topics = 6)\n",
    "dummies = pd.get_dummies(df.topic)\n",
    "df = pd.concat([df, dummies], axis=1)"
   ]
  },
  {
   "cell_type": "code",
   "execution_count": 27,
   "metadata": {},
   "outputs": [
    {
     "data": {
      "text/plain": [
       "Text(0, 0.5, 'Sentiment (Polarity)')"
      ]
     },
     "execution_count": 27,
     "metadata": {},
     "output_type": "execute_result"
    },
    {
     "data": {
      "image/png": "[encoded data removed]",
      "text/plain": [
       "<Figure size 432x288 with 1 Axes>"
      ]
     },
     "metadata": {
      "needs_background": "light"
     },
     "output_type": "display_data"
    }
   ],
   "source": [
    "x = ['EAP', 'HPL', 'MS']\n",
    "y = df.groupby('author').polarity.mean().values\n",
    "import matplotlib.pyplot as plt\n",
    "%matplotlib inline\n",
    "plt.bar(x, y)\n",
    "plt.xlabel('Author')\n",
    "plt.ylabel('Sentiment (Polarity)')"
   ]
  },
  {
   "cell_type": "code",
   "execution_count": 32,
   "metadata": {},
   "outputs": [
    {
     "data": {
      "text/plain": [
       "Text(0, 0.5, 'Average # Signifant Words (No stop words)')"
      ]
     },
     "execution_count": 32,
     "metadata": {},
     "output_type": "execute_result"
    },
    {
     "data": {
      "image/png": "[encoded data removed]",
      "text/plain": [
       "<Figure size 432x288 with 1 Axes>"
      ]
     },
     "metadata": {
      "needs_background": "light"
     },
     "output_type": "display_data"
    }
   ],
   "source": [
    "x = ['EAP', 'HPL', 'MS']\n",
    "y = df.groupby('author').avg_word_len.mean().values\n",
    "import matplotlib.pyplot as plt\n",
    "%matplotlib inline\n",
    "plt.bar(x, y)\n",
    "plt.xlabel('Author')\n",
    "plt.ylabel('Average # Signifant Words (No stop words)')"
   ]
  },
  {
   "cell_type": "code",
   "execution_count": 5,
   "metadata": {},
   "outputs": [],
   "source": [
    "X_train, X_valid, y_train, y_valid = train_test_split(df.drop(['author', 'lemmas', 'entities'], axis=1), df.author.values, test_size=0.25, random_state=0)\n",
    "cv = CountVectorizer()\n",
    "\n",
    "cv.fit(np.concatenate([X_train.text, X_valid.text]))\n",
    "X_train_cv = cv.transform(X_train.text)\n",
    "X_valid_cv = cv.transform(X_valid.text)\n",
    "\n",
    "x_train_array = pd.DataFrame(X_train_cv.toarray())\n",
    "x_valid_array = pd.DataFrame(X_valid_cv.toarray())\n",
    "\n",
    "X_train.reset_index(inplace=True)\n",
    "X_valid.reset_index(inplace=True)\n",
    "X_train_full = pd.concat([x_train_array, X_train], axis=1)\n",
    "X_valid_full = pd.concat([x_valid_array, X_valid], axis=1)\n",
    "X_train_final = X_train_full.drop(['text', 'index'], axis=1)\n",
    "X_valid_final = X_valid_full.drop(['text', 'index'], axis=1)"
   ]
  },
  {
   "cell_type": "code",
   "execution_count": null,
   "metadata": {},
   "outputs": [],
   "source": []
  },
  {
   "cell_type": "code",
   "execution_count": 6,
   "metadata": {},
   "outputs": [],
   "source": [
    "for col in X_train_final.columns:\n",
    "    if X_train_final[col].values.min() < 0:\n",
    "        X_train_final[col] = X_train_final[col] - X_train_final[col].values.min()\n",
    "        \n",
    "for col in X_valid_final.columns:\n",
    "    if X_valid_final[col].values.min() < 0:\n",
    "        X_valid_final[col] = X_valid_final[col] - X_valid_final[col].values.min()"
   ]
  },
  {
   "cell_type": "markdown",
   "metadata": {},
   "source": [
    "## MODELING"
   ]
  },
  {
   "cell_type": "code",
   "execution_count": 7,
   "metadata": {},
   "outputs": [
    {
     "name": "stdout",
     "output_type": "stream",
     "text": [
      "Multinomial Naive Bayes Accuracy:  0.8506639427987742\n"
     ]
    }
   ],
   "source": [
    "model = MultinomialNB(alpha=.1)\n",
    "model.fit(X_train_final, y_train)\n",
    "preds = model.predict(X_valid_final)\n",
    "acc = accuracy_score(y_valid, preds)\n",
    "print('Multinomial Naive Bayes Accuracy: ', acc)"
   ]
  },
  {
   "cell_type": "markdown",
   "metadata": {},
   "source": [
    "## DEMO"
   ]
  },
  {
   "cell_type": "code",
   "execution_count": 36,
   "metadata": {
    "scrolled": false
   },
   "outputs": [
    {
     "name": "stdout",
     "output_type": "stream",
     "text": [
      "Enter Your Sentence:\n",
      "\n",
      "lauren is a very nice person  ilove her \n"
     ]
    }
   ],
   "source": [
    "text = input('Enter Your Sentence:\\n\\n')\n",
    "input_df = pd.DataFrame(data={'text': text}, index=[0])\n",
    "input_df = initialize(input_df)\n",
    "input_df = input_df.apply(lambda x: add_features(x), axis=1)\n",
    "input_df['topic'] = get_topics(input_df.text.values.tolist(), num_topics = 6)\n",
    "# input_df = pd.concat([input_df, dummies], axis=1)\n",
    "input_df.drop(['lemmas', 'entities'], axis=1, inplace=True)\n",
    "test = pd.DataFrame(cv.transform(input_df.text).toarray())\n",
    "test.reset_index(inplace=True)\n",
    "test_final = pd.concat([input_df, test], axis=1)\n",
    "test_final = test_final.drop(['text', 'index'], axis=1)\n",
    "test_final['0'] = 0\n",
    "test_final['1'] = 0\n",
    "test_final['2'] = 0\n",
    "test_final['3'] = 0\n",
    "test_final['5'] = 0\n",
    "test_final['6'] = 0\n",
    "for col in test_final.columns:\n",
    "    if test_final[col].values.min() < 0:\n",
    "        test_final[col] = test_final[col] - test_final[col].values.min()\n",
    "prediction = model.predict_proba(test_final)\n",
    "author_map = {0: 'Edgar Allan Poe', 1: 'HP Lovecraft', 2: 'Mary Shelley'}\n"
   ]
  },
  {
   "cell_type": "code",
   "execution_count": 37,
   "metadata": {},
   "outputs": [
    {
     "name": "stdout",
     "output_type": "stream",
     "text": [
      "[[1.00000000e+00 9.51210326e-52 4.00836388e-58]]\n"
     ]
    }
   ],
   "source": [
    "print(prediction)"
   ]
  },
  {
   "cell_type": "code",
   "execution_count": null,
   "metadata": {},
   "outputs": [],
   "source": []
  }
 ],
 "metadata": {
  "kernelspec": {
   "display_name": "Python 3",
   "language": "python",
   "name": "python3"
  },
  "language_info": {
   "codemirror_mode": {
    "name": "ipython",
    "version": 3
   },
   "file_extension": ".py",
   "mimetype": "text/x-python",
   "name": "python",
   "nbconvert_exporter": "python",
   "pygments_lexer": "ipython3",
   "version": "3.7.3"
  }
 },
 "nbformat": 4,
 "nbformat_minor": 2
}
