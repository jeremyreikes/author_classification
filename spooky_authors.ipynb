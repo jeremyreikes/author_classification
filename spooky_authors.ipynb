{
 "cells": [
  {
   "cell_type": "code",
   "execution_count": 42,
   "metadata": {},
   "outputs": [],
   "source": [
    "import feature_engineering\n",
    "from sklearn.feature_extraction.text import CountVectorizer\n",
    "from topic_modeling import get_topic_probs, get_new_topic_probs\n",
    "from sklearn.linear_model import LogisticRegression\n",
    "from sklearn.metrics import log_loss\n",
    "import pandas as pd\n",
    "import csv"
   ]
  },
  {
   "cell_type": "code",
   "execution_count": 5,
   "metadata": {},
   "outputs": [],
   "source": [
    "train_data = feature_engineering.prepare_data('train.csv')\n",
    "train_df = train_data.apply(lambda x: feature_engineering.add_features(x), axis=1)\n",
    "train_df['vector_avg'] = train_df['vector_avg'] - train_df['vector_avg'].min()\n",
    "train_df['FleischReadingEase'] = train_df['FleischReadingEase'] - train_df['FleischReadingEase'].min()"
   ]
  },
  {
   "cell_type": "code",
   "execution_count": 4,
   "metadata": {},
   "outputs": [],
   "source": [
    "test_data = feature_engineering.prepare_data('test.csv', test=True)\n",
    "test_df = test_data.apply(lambda x: feature_engineering.add_features(x), axis=1)\n",
    "test_df.set_index('id', inplace=True)\n",
    "test_df['vector_avg'] = test_df['vector_avg'] - test_df['vector_avg'].min()\n",
    "test_df['FleischReadingEase'] = test_df['FleischReadingEase'] - test_df['FleischReadingEase'].min()"
   ]
  },
  {
   "cell_type": "code",
   "execution_count": 6,
   "metadata": {},
   "outputs": [],
   "source": [
    "train_topic_probs, lda_model = get_topic_probs(train_df)\n",
    "train_topic_probs.index = train_df.index\n",
    "test_topic_probs = get_new_topic_probs(test_df, lda_model)\n",
    "test_topic_probs.index = test_df.index\n"
   ]
  },
  {
   "cell_type": "code",
   "execution_count": 9,
   "metadata": {},
   "outputs": [],
   "source": [
    "cv = CountVectorizer()\n",
    "cv.fit(train_df.text)\n",
    "cv_train = pd.DataFrame(cv.transform(train_df.text).toarray(), index=train_df.index)\n",
    "cv_test = pd.DataFrame(cv.transform(test_df.text).toarray(), index=test_df.index)"
   ]
  },
  {
   "cell_type": "code",
   "execution_count": 10,
   "metadata": {},
   "outputs": [],
   "source": [
    "y_train = train_df['author']\n",
    "train_df.drop(['text', 'lemmas', 'entities', 'author'], axis=1, inplace=True)\n",
    "X_train = pd.concat([train_df, train_topic_probs, cv_train], axis=1)"
   ]
  },
  {
   "cell_type": "code",
   "execution_count": 37,
   "metadata": {},
   "outputs": [],
   "source": [
    "test_topic_probs.columns = ['topic_0', 'topic_1', 'topic_2', 'topic3']"
   ]
  },
  {
   "cell_type": "code",
   "execution_count": 39,
   "metadata": {},
   "outputs": [],
   "source": [
    "test_df.drop(['text', 'lemmas', 'entities'], axis=1, inplace=True)\n",
    "X_test = pd.concat([test_df, test_topic_probs, cv_test], axis=1)"
   ]
  },
  {
   "cell_type": "code",
   "execution_count": 41,
   "metadata": {},
   "outputs": [
    {
     "name": "stderr",
     "output_type": "stream",
     "text": [
      "/Users/jeremy/anaconda3/lib/python3.7/site-packages/sklearn/linear_model/logistic.py:432: FutureWarning: Default solver will be changed to 'lbfgs' in 0.22. Specify a solver to silence this warning.\n",
      "  FutureWarning)\n",
      "/Users/jeremy/anaconda3/lib/python3.7/site-packages/sklearn/linear_model/logistic.py:469: FutureWarning: Default multi_class will be changed to 'auto' in 0.22. Specify the multi_class option to silence this warning.\n",
      "  \"this warning.\", FutureWarning)\n"
     ]
    }
   ],
   "source": [
    "lr = LogisticRegression()\n",
    "lr.fit(X_train, y_train)\n",
    "predictions = lr.predict_proba(X_test)"
   ]
  },
  {
   "cell_type": "code",
   "execution_count": 43,
   "metadata": {},
   "outputs": [
    {
     "data": {
      "text/plain": [
       "array([0.3707923 , 0.00489754, 0.62431017])"
      ]
     },
     "execution_count": 43,
     "metadata": {},
     "output_type": "execute_result"
    }
   ],
   "source": [
    "predictions[0]"
   ]
  },
  {
   "cell_type": "markdown",
   "metadata": {},
   "source": [
    "# Create Kaggle Submission File"
   ]
  },
  {
   "cell_type": "code",
   "execution_count": 46,
   "metadata": {},
   "outputs": [],
   "source": [
    "with open('submission.csv', mode='w') as file:\n",
    "    writer = csv.writer(file, delimiter=',')\n",
    "\n",
    "    #way to write to csv file\n",
    "    writer.writerow(['id', 'EAP', 'HPL', 'MWS'])\n",
    "    for i in range(len(predictions)):\n",
    "        _id = X_test.index[i]\n",
    "        preds = predictions[i]\n",
    "        row = [_id, preds[0], preds[1], preds[2]]\n",
    "        writer.writerow(row)\n",
    "    "
   ]
  },
  {
   "cell_type": "code",
   "execution_count": null,
   "metadata": {},
   "outputs": [],
   "source": []
  }
 ],
 "metadata": {
  "kernelspec": {
   "display_name": "Python 3",
   "language": "python",
   "name": "python3"
  },
  "language_info": {
   "codemirror_mode": {
    "name": "ipython",
    "version": 3
   },
   "file_extension": ".py",
   "mimetype": "text/x-python",
   "name": "python",
   "nbconvert_exporter": "python",
   "pygments_lexer": "ipython3",
   "version": "3.7.3"
  }
 },
 "nbformat": 4,
 "nbformat_minor": 2
}
